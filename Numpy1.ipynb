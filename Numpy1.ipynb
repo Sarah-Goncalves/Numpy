{
 "cells": [
  {
   "cell_type": "markdown",
   "metadata": {},
   "source": [
    "# Numpy_1 "
   ]
  },
  {
   "cell_type": "code",
   "execution_count": 1,
   "metadata": {},
   "outputs": [],
   "source": [
    "import numpy as np"
   ]
  },
  {
   "cell_type": "markdown",
   "metadata": {},
   "source": [
    "## Quelques fonctions utiles"
   ]
  },
  {
   "cell_type": "markdown",
   "metadata": {},
   "source": [
    "On a créé un tableau 2D contenant des valeurs aléatoires. "
   ]
  },
  {
   "cell_type": "code",
   "execution_count": 2,
   "metadata": {},
   "outputs": [
    {
     "data": {
      "text/plain": [
       "array([[-4.27497643e-01,  3.51515583e-01, -5.94954133e-01,\n",
       "         1.18701989e+00, -1.58667308e+00, -1.50892811e-01,\n",
       "         1.03572729e+00,  3.84570131e-01, -8.87031272e-01,\n",
       "         1.21957853e-01,  5.12039963e-01, -5.39523830e-01,\n",
       "        -1.16605733e-01,  2.14686938e+00, -1.53192056e+00,\n",
       "         1.73020126e-01,  5.98001983e-01,  2.56517466e-02,\n",
       "        -1.31378773e+00, -1.31625386e+00],\n",
       "       [-4.71726077e-01,  2.54174679e-01,  1.65378334e+00,\n",
       "        -5.19891319e-01,  1.40124719e+00, -9.24285407e-01,\n",
       "         2.25542727e+00,  3.23993238e-01,  1.16010361e+00,\n",
       "         7.87179698e-01, -2.27910130e-01,  1.29472193e-01,\n",
       "        -6.37528462e-01, -1.15064901e-02, -5.18310928e-01,\n",
       "         2.14156726e-01, -3.76854527e-01, -5.42635613e-01,\n",
       "        -4.76452598e-01,  1.13459624e+00],\n",
       "       [ 4.98981805e-01,  5.75935425e-01, -1.30036898e-01,\n",
       "        -7.26259810e-01, -2.19280937e-01, -7.90115232e-01,\n",
       "         8.65529751e-01, -2.23705558e+00, -6.14736510e-01,\n",
       "         6.63666829e-01, -6.17884687e-01,  2.89889320e-01,\n",
       "        -1.26217825e+00,  5.31248010e-01, -1.86769950e+00,\n",
       "        -1.06430461e+00,  3.22225732e-01,  2.75123877e+00,\n",
       "         6.26369414e-01,  1.23253168e+00],\n",
       "       [ 1.47036975e+00, -5.30469278e-01,  1.43090218e+00,\n",
       "         4.23716204e-01,  1.81175575e-01,  6.57658285e-01,\n",
       "         5.45127066e-01, -1.32206461e+00, -7.62446490e-01,\n",
       "         9.95630698e-01, -1.04467033e-01,  1.72823821e+00,\n",
       "         2.55772566e+00,  3.39067307e-01, -7.66411197e-01,\n",
       "        -3.67411363e-01,  2.82354620e-01,  1.28316683e-02,\n",
       "        -5.21557543e-01, -2.39573529e+00],\n",
       "       [-2.09117220e+00, -4.36292541e-01,  1.72316744e+00,\n",
       "        -1.02995337e+00, -2.26056969e-02, -7.41271900e-02,\n",
       "         1.88263059e+00,  2.16167913e-01,  2.66197809e-01,\n",
       "        -5.88930063e-01,  2.61707938e-01, -6.79754657e-01,\n",
       "         1.15809767e+00, -3.01414694e-01,  2.16795562e-01,\n",
       "         1.82749503e+00,  6.69544713e-01, -1.17737143e+00,\n",
       "         5.69347620e-01,  5.70784763e-01],\n",
       "       [-1.51556365e+00, -7.50117478e-01,  9.74738741e-01,\n",
       "         6.62393215e-01, -5.09057797e-01, -1.95000888e+00,\n",
       "        -1.90739670e-01,  1.40243387e+00, -1.52199220e+00,\n",
       "         5.35036657e-01,  1.01897793e+00,  1.53826731e-02,\n",
       "         2.02240894e+00, -1.33409603e+00,  1.59522444e+00,\n",
       "        -1.25202542e+00, -1.25447995e-02,  1.03104727e+00,\n",
       "        -4.42039387e-01,  3.74855044e-01],\n",
       "       [ 7.06209850e-01,  1.94599345e+00, -1.22575977e+00,\n",
       "        -1.03198256e+00, -3.43898212e-01,  2.62646186e+00,\n",
       "        -9.33549867e-01,  4.83876214e-01,  7.80181232e-01,\n",
       "         2.71500452e-01,  7.91285599e-01, -9.33343152e-02,\n",
       "        -6.88441176e-01,  5.74452483e-01,  1.96849885e-01,\n",
       "        -1.97283840e-01,  3.02271319e-01, -7.38527508e-02,\n",
       "        -2.11004378e-01, -3.18010669e-01],\n",
       "       [ 8.11685697e-01, -9.41464318e-01,  8.63140616e-01,\n",
       "         7.58881705e-01, -9.80207882e-01, -7.01821116e-02,\n",
       "        -6.31190220e-02,  1.67183135e+00,  7.18045059e-02,\n",
       "        -2.12243825e+00,  4.71023239e-01, -6.83482075e-02,\n",
       "        -1.56521333e+00,  6.40341637e-01, -2.11647455e+00,\n",
       "         1.46821775e+00,  6.78229905e-01,  6.95962198e-01,\n",
       "         3.40017253e-01, -9.41788222e-01],\n",
       "       [ 6.78374608e-01, -4.56000436e-02,  2.41049932e-01,\n",
       "        -1.88004990e+00,  2.18109906e-01, -1.15712512e-01,\n",
       "         5.24203397e-01, -6.45158623e-01,  2.80951850e-01,\n",
       "        -4.89197657e-01,  5.61265257e-01, -2.12473614e-01,\n",
       "        -3.33327249e-01,  3.64551983e-01,  6.44145557e-01,\n",
       "         4.03599957e-01,  7.67888339e-01,  4.15549226e-01,\n",
       "         1.77899356e+00, -1.08018399e+00],\n",
       "       [-7.76998977e-01, -1.11500045e+00, -8.75881140e-01,\n",
       "        -1.54614902e+00, -5.34082121e-01, -1.88618703e+00,\n",
       "        -3.21965531e-01,  6.48196860e-01, -1.07615230e+00,\n",
       "         1.65586294e+00,  8.73765605e-01,  2.27005494e+00,\n",
       "         1.96308734e-01,  2.35878343e-01,  1.26607526e+00,\n",
       "         1.43233114e+00, -5.47128566e-01, -4.42894439e-01,\n",
       "         1.38956723e+00,  3.07678676e-01],\n",
       "       [-4.19216551e-01, -2.26170996e-02, -2.33993181e+00,\n",
       "         1.49774400e+00, -1.41572477e-01, -8.78696813e-01,\n",
       "         3.61815729e-01,  7.35590606e-01,  1.35724266e+00,\n",
       "        -1.42492062e+00,  5.23462070e-01,  1.44038361e+00,\n",
       "        -4.41235569e-01,  6.92043140e-01,  1.25978493e+00,\n",
       "         1.56665006e-01,  8.10993961e-01, -4.15370369e-01,\n",
       "         2.29855795e-01, -1.68543988e-01],\n",
       "       [ 5.32214725e-03,  1.45396956e+00, -3.12862368e-01,\n",
       "         7.36026538e-01,  4.62396543e-02,  2.20949009e-01,\n",
       "        -2.40910150e-01,  1.72225368e+00, -3.80570723e-01,\n",
       "         5.00096955e-01,  1.58889920e-01,  2.17388562e+00,\n",
       "         1.17094979e-01, -2.23028260e-01, -1.49290147e+00,\n",
       "        -1.82976587e-01, -1.46812387e+00, -8.95278279e-02,\n",
       "        -5.13489918e-01,  6.99724230e-01],\n",
       "       [ 6.81287109e-01,  1.05108325e+00,  1.19982466e+00,\n",
       "         1.82130619e+00, -1.58172965e+00,  9.33197841e-02,\n",
       "        -5.18011902e-01,  1.24301340e+00,  3.47016466e-01,\n",
       "         1.45097970e+00,  2.97160060e-01, -8.66414560e-01,\n",
       "         9.78105833e-01, -4.20978998e-01,  3.17922501e-01,\n",
       "        -7.57455058e-01, -1.39666792e+00, -1.45079779e+00,\n",
       "         1.76615202e+00, -4.73334705e-02],\n",
       "       [ 9.04848904e-02, -9.00551335e-01,  1.54198721e+00,\n",
       "         9.75106812e-01,  3.87885421e-01,  9.25927916e-01,\n",
       "        -9.06880418e-02, -1.97416398e+00,  1.57838858e+00,\n",
       "         5.05987899e-01, -1.10903824e+00,  1.41169482e+00,\n",
       "         1.04029463e+00, -1.27355520e+00, -7.70020353e-01,\n",
       "        -5.90958204e-01, -1.47899614e+00,  3.10108940e-01,\n",
       "        -6.29330885e-01, -1.06619097e+00],\n",
       "       [-1.41020324e+00, -1.42013890e+00,  1.74155197e+00,\n",
       "         1.73540705e+00,  1.97396056e-02, -7.54321539e-01,\n",
       "        -1.85200959e-01,  2.57009252e-01,  3.20707734e-02,\n",
       "         1.61429366e+00,  7.51288783e-01,  1.42602108e-01,\n",
       "        -1.68515661e+00, -9.77685569e-02, -9.49762369e-03,\n",
       "        -5.67689339e-01, -1.05060787e+00,  6.30713945e-01,\n",
       "         1.09299591e+00, -6.05320313e-01],\n",
       "       [-1.05687080e+00, -5.25900559e-01,  1.22338887e+00,\n",
       "        -3.39982217e-01,  3.47257022e-02,  1.89107827e-01,\n",
       "         8.25056218e-01,  5.37057422e-01,  1.16074484e+00,\n",
       "         1.09193495e+00,  6.60861912e-02,  9.21093516e-01,\n",
       "         3.16059227e-01,  1.88892333e-01, -4.04615675e-01,\n",
       "         4.69896012e-01,  8.29625037e-01,  4.85282214e-01,\n",
       "        -1.28527770e-01, -6.45172899e-01],\n",
       "       [-1.65237162e+00, -4.67712504e-01,  1.32433846e-01,\n",
       "         1.10602692e+00, -5.13671303e-01, -4.80443932e-02,\n",
       "         2.92797533e-01,  3.66228223e-01,  3.16680494e-01,\n",
       "         2.25040161e+00, -1.68897767e+00, -1.00368008e+00,\n",
       "        -2.21685326e-01, -2.23401294e+00, -1.49705488e+00,\n",
       "         5.46321623e-01, -7.59265360e-01,  2.18962356e-01,\n",
       "         2.45858719e-01,  3.63043648e-01],\n",
       "       [-6.39605822e-03, -6.90699220e-01, -1.70937764e-01,\n",
       "        -1.12821276e+00,  2.30956891e-01, -8.67027964e-01,\n",
       "        -1.30601766e+00, -9.82114249e-01,  1.45939118e+00,\n",
       "        -6.39516687e-01, -1.40378005e-02, -1.90365434e+00,\n",
       "        -3.77151372e-01, -2.04846167e-03,  8.97270422e-01,\n",
       "         7.89670584e-01, -5.86501041e-01,  6.52265260e-01,\n",
       "         5.33602905e-01,  1.64394060e-02],\n",
       "       [-1.32314498e+00, -1.08747509e+00, -5.95990856e-01,\n",
       "        -8.29488603e-01,  3.90660646e-01,  9.49438079e-02,\n",
       "         3.25847080e-01, -1.16362683e+00, -1.09486426e+00,\n",
       "        -1.10770854e+00, -4.44148734e-02,  1.41511699e-01,\n",
       "         2.29911586e+00, -1.29702414e+00,  1.33443008e+00,\n",
       "        -1.02251040e+00,  2.96181897e-01, -5.88500130e-01,\n",
       "         9.70053387e-02,  1.19321926e+00],\n",
       "       [-6.20353498e-01,  5.08721606e-01, -1.94377485e+00,\n",
       "         7.88482001e-02, -1.73211788e+00,  9.74734841e-01,\n",
       "         2.81177576e-01,  1.02997775e+00,  2.35030914e-01,\n",
       "         1.64650295e+00, -5.70598394e-02,  1.88901862e+00,\n",
       "         9.50640674e-01, -2.09769465e+00, -1.51509438e+00,\n",
       "         8.15038949e-01, -1.72421110e+00,  8.14507311e-01,\n",
       "        -1.48187478e+00,  1.42797989e-01]])"
      ]
     },
     "execution_count": 2,
     "metadata": {},
     "output_type": "execute_result"
    }
   ],
   "source": [
    "#t=np.ramdom.randn(shape)           : créer un tableau de floats aléatoires (loi normale)\n",
    "#t=np.random.rand(shape)            : créer un tableau de floats aléatoires entre 0 et 1 exclu\n",
    "#t=np.linspace(a,b,c)               : créer un tableau de floats aléatoires régulièrement répartis\n",
    "#                                     entre a et b, de taille c\n",
    "\n",
    "#t=np.random.randint(a, size=(b, c)): créer un tableau d'entiers aléatoires de 0 à a\n",
    "#                                     (b, c) = shape\n",
    "\n",
    "#t=np.arange(a)                     : créer un tableau d'entiers de 0 à a (avec un pas de 1)\n",
    "#t=np.arange(a,b)                   : créer un tableau d'entiers de a à b (avec un pas de 1)\n",
    "#t=np.arange(35).reshape(5,7)       : créer un tableau d'entier de 0 à 34\n",
    "#                                   : les attributs doivent être des multiples de 35 sinon errors\n",
    "\n",
    "#t=np.array([a,b,c,d])              : créer un tableau directement avec des valeurs\n",
    "#                                   : depuis Python directement : ndarray([a,b,c,d])\n",
    "\n",
    "\n",
    "rdm_mat = np.random.randn(20, 20)\n",
    "rdm_mat"
   ]
  },
  {
   "cell_type": "markdown",
   "metadata": {},
   "source": [
    " "
   ]
  },
  {
   "cell_type": "markdown",
   "metadata": {},
   "source": [
    "Donner le type de la variable rdm_mat"
   ]
  },
  {
   "cell_type": "code",
   "execution_count": 3,
   "metadata": {},
   "outputs": [
    {
     "data": {
      "text/plain": [
       "numpy.ndarray"
      ]
     },
     "execution_count": 3,
     "metadata": {},
     "output_type": "execute_result"
    }
   ],
   "source": [
    "type(rdm_mat)"
   ]
  },
  {
   "cell_type": "markdown",
   "metadata": {},
   "source": [
    "Donner le type de données au sein de la variable rdm_mat"
   ]
  },
  {
   "cell_type": "code",
   "execution_count": 4,
   "metadata": {},
   "outputs": [
    {
     "data": {
      "text/plain": [
       "dtype('float64')"
      ]
     },
     "execution_count": 4,
     "metadata": {},
     "output_type": "execute_result"
    }
   ],
   "source": [
    "rdm_mat.dtype"
   ]
  },
  {
   "cell_type": "markdown",
   "metadata": {},
   "source": [
    " "
   ]
  },
  {
   "cell_type": "markdown",
   "metadata": {},
   "source": [
    "Donner les caractéristiques du tableau:"
   ]
  },
  {
   "cell_type": "code",
   "execution_count": 5,
   "metadata": {},
   "outputs": [
    {
     "data": {
      "text/plain": [
       "2"
      ]
     },
     "execution_count": 5,
     "metadata": {},
     "output_type": "execute_result"
    }
   ],
   "source": [
    "#Donne la dimension du tableau:\n",
    "rdm_mat.ndim"
   ]
  },
  {
   "cell_type": "code",
   "execution_count": 6,
   "metadata": {},
   "outputs": [
    {
     "data": {
      "text/plain": [
       "(20, 20)"
      ]
     },
     "execution_count": 6,
     "metadata": {},
     "output_type": "execute_result"
    }
   ],
   "source": [
    "#Donne la forme du tableau (nombre de colonnes et de lignes):\n",
    "rdm_mat.shape"
   ]
  },
  {
   "cell_type": "code",
   "execution_count": 7,
   "metadata": {},
   "outputs": [
    {
     "data": {
      "text/plain": [
       "400"
      ]
     },
     "execution_count": 7,
     "metadata": {},
     "output_type": "execute_result"
    }
   ],
   "source": [
    "#Donne la taille (20x20) :\n",
    "rdm_mat.size"
   ]
  },
  {
   "cell_type": "markdown",
   "metadata": {},
   "source": [
    " "
   ]
  },
  {
   "cell_type": "markdown",
   "metadata": {},
   "source": [
    "Donner la somme des éléments de ce tableau 2D"
   ]
  },
  {
   "cell_type": "code",
   "execution_count": 8,
   "metadata": {},
   "outputs": [
    {
     "data": {
      "text/plain": [
       "15.045203464238407"
      ]
     },
     "execution_count": 8,
     "metadata": {},
     "output_type": "execute_result"
    }
   ],
   "source": [
    "np.sum(rdm_mat)"
   ]
  },
  {
   "cell_type": "markdown",
   "metadata": {},
   "source": [
    " "
   ]
  },
  {
   "cell_type": "markdown",
   "metadata": {},
   "source": [
    "Faire en sorte de récupérer la valeur maximale sur chaque ligne (sans boucles) avec la fonction np.max"
   ]
  },
  {
   "cell_type": "code",
   "execution_count": 9,
   "metadata": {},
   "outputs": [
    {
     "data": {
      "text/plain": [
       "array([2.14686938, 2.25542727, 2.75123877, 2.55772566, 1.88263059,\n",
       "       2.02240894, 2.62646186, 1.67183135, 1.77899356, 2.27005494,\n",
       "       1.497744  , 2.17388562, 1.82130619, 1.57838858, 1.74155197,\n",
       "       1.22338887, 2.25040161, 1.45939118, 2.29911586, 1.88901862])"
      ]
     },
     "execution_count": 9,
     "metadata": {},
     "output_type": "execute_result"
    }
   ],
   "source": [
    "np.max(rdm_mat, axis=1) "
   ]
  },
  {
   "cell_type": "markdown",
   "metadata": {},
   "source": [
    "Faire de même pour récupérer la valeur maximum pour chaque colonne (sans boucles)"
   ]
  },
  {
   "cell_type": "code",
   "execution_count": 10,
   "metadata": {},
   "outputs": [
    {
     "data": {
      "text/plain": [
       "array([1.47036975, 1.94599345, 1.74155197, 1.82130619, 1.40124719,\n",
       "       2.62646186, 2.25542727, 1.72225368, 1.57838858, 2.25040161,\n",
       "       1.01897793, 2.27005494, 2.55772566, 2.14686938, 1.59522444,\n",
       "       1.82749503, 0.82962504, 2.75123877, 1.77899356, 1.23253168])"
      ]
     },
     "execution_count": 10,
     "metadata": {},
     "output_type": "execute_result"
    }
   ],
   "source": [
    "np.max(rdm_mat, axis=0)"
   ]
  },
  {
   "cell_type": "markdown",
   "metadata": {},
   "source": [
    "Faire la même chose (max des lignes) en définissant un tableau avec une boucle for et la fonction max de numpy"
   ]
  },
  {
   "cell_type": "code",
   "execution_count": 11,
   "metadata": {},
   "outputs": [
    {
     "data": {
      "text/plain": [
       "array([[10, 18,  3],\n",
       "       [ 6, 12, 13],\n",
       "       [ 6, 13, 18],\n",
       "       [15,  0, 14],\n",
       "       [10,  6, 19]])"
      ]
     },
     "execution_count": 11,
     "metadata": {},
     "output_type": "execute_result"
    }
   ],
   "source": [
    "ma_mat=np.random.randint(20, size=(5, 3))\n",
    "ma_mat"
   ]
  },
  {
   "cell_type": "code",
   "execution_count": 12,
   "metadata": {},
   "outputs": [
    {
     "data": {
      "text/plain": [
       "[18, 13, 18, 15, 19]"
      ]
     },
     "execution_count": 12,
     "metadata": {},
     "output_type": "execute_result"
    }
   ],
   "source": [
    "def max_tab(matr):\n",
    "    t=[]\n",
    "    for i in range(len(matr)):          # i = ligne\n",
    "        t.append(np.max(matr[i]))       # max pour chaque ligne\n",
    "    return t\n",
    "\n",
    "max_tab(ma_mat)"
   ]
  },
  {
   "cell_type": "markdown",
   "metadata": {},
   "source": [
    " "
   ]
  },
  {
   "cell_type": "markdown",
   "metadata": {},
   "source": [
    "On crée un vecteur aléatoire"
   ]
  },
  {
   "cell_type": "code",
   "execution_count": 13,
   "metadata": {},
   "outputs": [
    {
     "data": {
      "text/plain": [
       "array([ 1,  1, 17,  0, 11,  1, 16, 16, 19,  6])"
      ]
     },
     "execution_count": 13,
     "metadata": {},
     "output_type": "execute_result"
    }
   ],
   "source": [
    "v=np.random.randint(20, size=(10))\n",
    "v"
   ]
  },
  {
   "cell_type": "code",
   "execution_count": 14,
   "metadata": {},
   "outputs": [
    {
     "data": {
      "text/plain": [
       "array([0, 1, 2, 3, 4, 5, 6, 7, 8, 9])"
      ]
     },
     "execution_count": 14,
     "metadata": {},
     "output_type": "execute_result"
    }
   ],
   "source": [
    "#crée un tableau de a à b exclus:\n",
    "w=np.arange(0,10)\n",
    "w"
   ]
  },
  {
   "cell_type": "code",
   "execution_count": 15,
   "metadata": {},
   "outputs": [
    {
     "data": {
      "text/plain": [
       "array([ 0,  5, 10, 15])"
      ]
     },
     "execution_count": 15,
     "metadata": {},
     "output_type": "execute_result"
    }
   ],
   "source": [
    "#crée un tableau de a à b avec un pas de c:\n",
    "p=np.arange(0,20,5)\n",
    "p"
   ]
  },
  {
   "cell_type": "markdown",
   "metadata": {},
   "source": [
    " "
   ]
  },
  {
   "cell_type": "markdown",
   "metadata": {},
   "source": [
    "Récupérer la position de la valeur maximale du vecteur avec la méthode np.argmax"
   ]
  },
  {
   "cell_type": "code",
   "execution_count": 16,
   "metadata": {},
   "outputs": [
    {
     "name": "stdout",
     "output_type": "stream",
     "text": [
      "[ 1  1 17  0 11  1 16 16 19  6]\n"
     ]
    },
    {
     "data": {
      "text/plain": [
       "8"
      ]
     },
     "execution_count": 16,
     "metadata": {},
     "output_type": "execute_result"
    }
   ],
   "source": [
    "print(v)\n",
    "#Donne l'index (la position) où se trouve la valeur maximale du tableau:\n",
    "np.argmax(v)"
   ]
  },
  {
   "cell_type": "markdown",
   "metadata": {},
   "source": [
    "Afficher cette valeur "
   ]
  },
  {
   "cell_type": "code",
   "execution_count": 17,
   "metadata": {},
   "outputs": [
    {
     "data": {
      "text/plain": [
       "19"
      ]
     },
     "execution_count": 17,
     "metadata": {},
     "output_type": "execute_result"
    }
   ],
   "source": [
    "#Donne la valeur maximale comprise dans la liste:\n",
    "np.max(v)"
   ]
  },
  {
   "cell_type": "markdown",
   "metadata": {},
   "source": [
    " "
   ]
  },
  {
   "cell_type": "markdown",
   "metadata": {},
   "source": [
    "Convertir le vecteur en un tableau 10, 10"
   ]
  },
  {
   "cell_type": "code",
   "execution_count": 18,
   "metadata": {},
   "outputs": [
    {
     "data": {
      "text/plain": [
       "array([[ 1,  1, 17,  0, 11],\n",
       "       [ 1, 16, 16, 19,  6]])"
      ]
     },
     "execution_count": 18,
     "metadata": {},
     "output_type": "execute_result"
    }
   ],
   "source": [
    "v.reshape(2,5)                   #reshape fonctionne car j'ai demandé une taille qui correspond\n",
    "                                 #    au nombre de données que j'avais à l'origine : 10 valeurs\n",
    "                                 #ne fonctionne pas pour faire un tableau 10,10."
   ]
  },
  {
   "cell_type": "code",
   "execution_count": 19,
   "metadata": {},
   "outputs": [
    {
     "data": {
      "text/plain": [
       "array([[ 8,  2,  4, 12, 18, 15,  5, 19, 15,  6],\n",
       "       [ 0,  0,  0,  0,  0,  0,  0,  0,  0,  0],\n",
       "       [ 0,  0,  0,  0,  0,  0,  0,  0,  0,  0],\n",
       "       [ 0,  0,  0,  0,  0,  0,  0,  0,  0,  0],\n",
       "       [ 0,  0,  0,  0,  0,  0,  0,  0,  0,  0],\n",
       "       [ 0,  0,  0,  0,  0,  0,  0,  0,  0,  0],\n",
       "       [ 0,  0,  0,  0,  0,  0,  0,  0,  0,  0],\n",
       "       [ 0,  0,  0,  0,  0,  0,  0,  0,  0,  0],\n",
       "       [ 0,  0,  0,  0,  0,  0,  0,  0,  0,  0],\n",
       "       [ 0,  0,  0,  0,  0,  0,  0,  0,  0,  0]])"
      ]
     },
     "execution_count": 19,
     "metadata": {},
     "output_type": "execute_result"
    }
   ],
   "source": [
    "v=np.random.randint(20, size=(10))\n",
    "v.resize(10,10)                   #créer mon tableau comme souhaité en le remplissant de\n",
    "v                                 #                        0 pour les valeurs manquantes"
   ]
  },
  {
   "cell_type": "markdown",
   "metadata": {},
   "source": [
    "Calculer la moyenne de chaque ligne de ce tableau (sans boucles)"
   ]
  },
  {
   "cell_type": "code",
   "execution_count": 20,
   "metadata": {},
   "outputs": [
    {
     "data": {
      "text/plain": [
       "array([10.4,  0. ,  0. ,  0. ,  0. ,  0. ,  0. ,  0. ,  0. ,  0. ])"
      ]
     },
     "execution_count": 20,
     "metadata": {},
     "output_type": "execute_result"
    }
   ],
   "source": [
    "np.mean(v,axis=1)"
   ]
  },
  {
   "cell_type": "code",
   "execution_count": 21,
   "metadata": {},
   "outputs": [
    {
     "data": {
      "text/plain": [
       "1.04"
      ]
     },
     "execution_count": 21,
     "metadata": {},
     "output_type": "execute_result"
    }
   ],
   "source": [
    "#Moyennne du tableau:\n",
    "np.mean(v)"
   ]
  },
  {
   "cell_type": "markdown",
   "metadata": {},
   "source": [
    "Faire un tableau qui contient la moyenne de chaque colonne du tableau "
   ]
  },
  {
   "cell_type": "code",
   "execution_count": 22,
   "metadata": {},
   "outputs": [
    {
     "data": {
      "text/plain": [
       "array([0.8, 0.2, 0.4, 1.2, 1.8, 1.5, 0.5, 1.9, 1.5, 0.6])"
      ]
     },
     "execution_count": 22,
     "metadata": {},
     "output_type": "execute_result"
    }
   ],
   "source": [
    "tab=np.mean(v, axis=0)\n",
    "tab"
   ]
  },
  {
   "cell_type": "code",
   "execution_count": 23,
   "metadata": {},
   "outputs": [
    {
     "data": {
      "text/plain": [
       "array([0.8, 0.2, 0.4, 1.2, 1.8, 1.5, 0.5, 1.9, 1.5, 0.6])"
      ]
     },
     "execution_count": 23,
     "metadata": {},
     "output_type": "execute_result"
    }
   ],
   "source": [
    "#Avec une boucle:\n",
    "for i in range(len(v)):\n",
    "    m=np.sum(v, axis=0)/len(v)\n",
    "m"
   ]
  },
  {
   "cell_type": "markdown",
   "metadata": {},
   "source": [
    " "
   ]
  },
  {
   "cell_type": "markdown",
   "metadata": {},
   "source": [
    "Calculer la somme de chaque colonne (sans boucles)"
   ]
  },
  {
   "cell_type": "code",
   "execution_count": 24,
   "metadata": {},
   "outputs": [
    {
     "data": {
      "text/plain": [
       "array([ 8,  2,  4, 12, 18, 15,  5, 19, 15,  6])"
      ]
     },
     "execution_count": 24,
     "metadata": {},
     "output_type": "execute_result"
    }
   ],
   "source": [
    "np.sum(v, axis=0)"
   ]
  },
  {
   "cell_type": "markdown",
   "metadata": {},
   "source": [
    "Calculer la somme pour chaque ligne (sans boucles)"
   ]
  },
  {
   "cell_type": "code",
   "execution_count": 25,
   "metadata": {},
   "outputs": [
    {
     "data": {
      "text/plain": [
       "array([104,   0,   0,   0,   0,   0,   0,   0,   0,   0])"
      ]
     },
     "execution_count": 25,
     "metadata": {},
     "output_type": "execute_result"
    }
   ],
   "source": [
    "np.sum(v, axis=1)"
   ]
  },
  {
   "cell_type": "markdown",
   "metadata": {},
   "source": [
    " "
   ]
  },
  {
   "cell_type": "markdown",
   "metadata": {},
   "source": [
    " ## Opérations sur les tableaux:"
   ]
  },
  {
   "cell_type": "code",
   "execution_count": 26,
   "metadata": {},
   "outputs": [
    {
     "data": {
      "text/plain": [
       "array([ 7,  9, 11, 13, 15])"
      ]
     },
     "execution_count": 26,
     "metadata": {},
     "output_type": "execute_result"
    }
   ],
   "source": [
    "A=np.array([1,2,3,4,5])\n",
    "B=np.array([6,7,8,9,10])\n",
    "\n",
    "A+B         # additionne chaque élément correspondant du tableau 1 et du tableau 2"
   ]
  },
  {
   "cell_type": "code",
   "execution_count": 27,
   "metadata": {},
   "outputs": [
    {
     "data": {
      "text/plain": [
       "array([31, 32, 33, 34, 35])"
      ]
     },
     "execution_count": 27,
     "metadata": {},
     "output_type": "execute_result"
    }
   ],
   "source": [
    "A + 30      # additionne 30 à chaque élément du tableau"
   ]
  },
  {
   "cell_type": "code",
   "execution_count": 28,
   "metadata": {},
   "outputs": [
    {
     "data": {
      "text/plain": [
       "array([ 6, 14, 24, 36, 50])"
      ]
     },
     "execution_count": 28,
     "metadata": {},
     "output_type": "execute_result"
    }
   ],
   "source": [
    "A * B       # multpilie chaque élément de A par chaque élément de B"
   ]
  },
  {
   "cell_type": "code",
   "execution_count": 29,
   "metadata": {},
   "outputs": [
    {
     "data": {
      "text/plain": [
       "130"
      ]
     },
     "execution_count": 29,
     "metadata": {},
     "output_type": "execute_result"
    }
   ],
   "source": [
    "A @ B       # dot product / produit scalaire de A et B = multiplication des matrices\n",
    "            #                       en elle-mm, pas de leurs éléments indépendemment"
   ]
  },
  {
   "cell_type": "markdown",
   "metadata": {},
   "source": [
    " "
   ]
  },
  {
   "cell_type": "code",
   "execution_count": 30,
   "metadata": {},
   "outputs": [
    {
     "data": {
      "text/plain": [
       "array([1, 2, 3, 4, 5])"
      ]
     },
     "execution_count": 30,
     "metadata": {},
     "output_type": "execute_result"
    }
   ],
   "source": [
    "z=np.array([1,2,3,4,5])\n",
    "z"
   ]
  },
  {
   "cell_type": "code",
   "execution_count": 31,
   "metadata": {},
   "outputs": [
    {
     "data": {
      "text/plain": [
       "array([1, 2, 3])"
      ]
     },
     "execution_count": 31,
     "metadata": {},
     "output_type": "execute_result"
    }
   ],
   "source": [
    "z[:-2]"
   ]
  },
  {
   "cell_type": "code",
   "execution_count": 32,
   "metadata": {},
   "outputs": [
    {
     "data": {
      "text/plain": [
       "array([3, 4])"
      ]
     },
     "execution_count": 32,
     "metadata": {},
     "output_type": "execute_result"
    }
   ],
   "source": [
    "z[2:-1]"
   ]
  },
  {
   "cell_type": "code",
   "execution_count": 33,
   "metadata": {},
   "outputs": [
    {
     "data": {
      "text/plain": [
       "array([5, 4, 3, 2, 1])"
      ]
     },
     "execution_count": 33,
     "metadata": {},
     "output_type": "execute_result"
    }
   ],
   "source": [
    "#reverse tableau avec un pas de -1:\n",
    "z[::-1]"
   ]
  },
  {
   "cell_type": "markdown",
   "metadata": {},
   "source": [
    "Comparateurs:"
   ]
  },
  {
   "cell_type": "code",
   "execution_count": 34,
   "metadata": {},
   "outputs": [
    {
     "data": {
      "text/plain": [
       "array([False, False, False,  True,  True])"
      ]
     },
     "execution_count": 34,
     "metadata": {},
     "output_type": "execute_result"
    }
   ],
   "source": [
    "#pose une question booléenne\n",
    "#is i>3 in longueur de z:\n",
    "z>3"
   ]
  },
  {
   "cell_type": "code",
   "execution_count": 35,
   "metadata": {},
   "outputs": [
    {
     "data": {
      "text/plain": [
       "array([4, 5])"
      ]
     },
     "execution_count": 35,
     "metadata": {},
     "output_type": "execute_result"
    }
   ],
   "source": [
    "#montre uniquement les valeurs supérieurs à 3 ds le tableau z:\n",
    "z[z>3]"
   ]
  },
  {
   "cell_type": "code",
   "execution_count": null,
   "metadata": {},
   "outputs": [],
   "source": [
    "z.       #+tab : donne ttes les fonctions que l'on peut faire ac z.\n",
    "?z       #donne la doc sur cette variable\n",
    "?z.shape #idem"
   ]
  },
  {
   "cell_type": "markdown",
   "metadata": {},
   "source": [
    "Concaténer:"
   ]
  },
  {
   "cell_type": "code",
   "execution_count": 37,
   "metadata": {},
   "outputs": [
    {
     "data": {
      "text/plain": [
       "array([1, 2, 3, 4, 5, 6])"
      ]
     },
     "execution_count": 37,
     "metadata": {},
     "output_type": "execute_result"
    }
   ],
   "source": [
    "#Tableaux de 1 dimension:\n",
    "x=np.array([1,2,3])\n",
    "y=np.array([4,5,6])\n",
    "c=np.concatenate([x,y])\n",
    "c"
   ]
  },
  {
   "cell_type": "code",
   "execution_count": 38,
   "metadata": {},
   "outputs": [
    {
     "data": {
      "text/plain": [
       "array([[ 1,  2,  3],\n",
       "       [ 4,  5,  6],\n",
       "       [ 7,  8,  9],\n",
       "       [10, 11, 12]])"
      ]
     },
     "execution_count": 38,
     "metadata": {},
     "output_type": "execute_result"
    }
   ],
   "source": [
    "#Tableaux de 2 dimensions (ou plus):\n",
    "x=np.array([[1,2,3],[4,5,6]])\n",
    "y=np.array([[7,8,9],[10,11,12]])\n",
    "c=np.concatenate([x,y])\n",
    "c"
   ]
  },
  {
   "cell_type": "code",
   "execution_count": 39,
   "metadata": {},
   "outputs": [
    {
     "data": {
      "text/plain": [
       "array([[ 1,  2,  3,  7,  8,  9],\n",
       "       [ 4,  5,  6, 10, 11, 12]])"
      ]
     },
     "execution_count": 39,
     "metadata": {},
     "output_type": "execute_result"
    }
   ],
   "source": [
    "#Tableaux de 2 dimensions (ou plus):\n",
    "x=np.array([[1,2,3],[4,5,6]])\n",
    "y=np.array([[7,8,9],[10,11,12]])\n",
    "c=np.concatenate([x,y],axis=1)     #concaténation sur les lignes\n",
    "c"
   ]
  },
  {
   "cell_type": "markdown",
   "metadata": {},
   "source": [
    " "
   ]
  }
 ],
 "metadata": {
  "kernelspec": {
   "display_name": "Python 3",
   "language": "python",
   "name": "python3"
  },
  "language_info": {
   "codemirror_mode": {
    "name": "ipython",
    "version": 3
   },
   "file_extension": ".py",
   "mimetype": "text/x-python",
   "name": "python",
   "nbconvert_exporter": "python",
   "pygments_lexer": "ipython3",
   "version": "3.7.3"
  }
 },
 "nbformat": 4,
 "nbformat_minor": 2
}
