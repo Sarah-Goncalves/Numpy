{
 "cells": [
  {
   "cell_type": "markdown",
   "metadata": {},
   "source": [
    "# Numpy_2 : petits exercices \n",
    "Ce notebook a pour objectif de vous faire pratiquer numpy dans toute sa généralité. \n",
    "Vous avez donc une liste d'exercices à faire, ne pas hésiter à faire des recherches sur google ainsi que voir la [documentation officielle](https://docs.scipy.org/doc/numpy-1.13.0/reference/). "
   ]
  },
  {
   "cell_type": "markdown",
   "metadata": {},
   "source": [
    "#### Q1 : Importer le package numpy "
   ]
  },
  {
   "cell_type": "code",
   "execution_count": 1,
   "metadata": {},
   "outputs": [],
   "source": [
    "import numpy as np"
   ]
  },
  {
   "cell_type": "markdown",
   "metadata": {},
   "source": [
    "#### Q2 : Afficher la version de numpy et la configuration "
   ]
  },
  {
   "cell_type": "code",
   "execution_count": 2,
   "metadata": {},
   "outputs": [
    {
     "data": {
      "text/plain": [
       "'1.16.2'"
      ]
     },
     "execution_count": 2,
     "metadata": {},
     "output_type": "execute_result"
    }
   ],
   "source": [
    "np.__version__"
   ]
  },
  {
   "cell_type": "code",
   "execution_count": 3,
   "metadata": {},
   "outputs": [
    {
     "data": {
      "text/plain": [
       "'1.16.2'"
      ]
     },
     "execution_count": 3,
     "metadata": {},
     "output_type": "execute_result"
    }
   ],
   "source": [
    "np.version.version"
   ]
  },
  {
   "cell_type": "markdown",
   "metadata": {},
   "source": [
    "#### Q3 : Créer un vecteur nul de taille 10"
   ]
  },
  {
   "cell_type": "code",
   "execution_count": 4,
   "metadata": {},
   "outputs": [
    {
     "data": {
      "text/plain": [
       "array([0., 0., 0., 0., 0., 0., 0., 0., 0., 0.])"
      ]
     },
     "execution_count": 4,
     "metadata": {},
     "output_type": "execute_result"
    }
   ],
   "source": [
    "np.zeros(10)"
   ]
  },
  {
   "cell_type": "code",
   "execution_count": 5,
   "metadata": {},
   "outputs": [
    {
     "data": {
      "text/plain": [
       "array([[0., 0., 0., 0., 0., 0., 0., 0., 0., 0.],\n",
       "       [0., 0., 0., 0., 0., 0., 0., 0., 0., 0.],\n",
       "       [0., 0., 0., 0., 0., 0., 0., 0., 0., 0.]])"
      ]
     },
     "execution_count": 5,
     "metadata": {},
     "output_type": "execute_result"
    }
   ],
   "source": [
    "#Pour un tableau: np.zeros((size))\n",
    "np.zeros((3,10))"
   ]
  },
  {
   "cell_type": "code",
   "execution_count": 6,
   "metadata": {},
   "outputs": [
    {
     "data": {
      "text/plain": [
       "array([[1., 1., 1., 1., 1., 1., 1., 1., 1., 1.],\n",
       "       [1., 1., 1., 1., 1., 1., 1., 1., 1., 1.]])"
      ]
     },
     "execution_count": 6,
     "metadata": {},
     "output_type": "execute_result"
    }
   ],
   "source": [
    "np.ones((2,10))"
   ]
  },
  {
   "cell_type": "code",
   "execution_count": 7,
   "metadata": {},
   "outputs": [
    {
     "data": {
      "text/plain": [
       "array([[5, 5, 5, 5, 5, 5, 5, 5, 5, 5],\n",
       "       [5, 5, 5, 5, 5, 5, 5, 5, 5, 5]])"
      ]
     },
     "execution_count": 7,
     "metadata": {},
     "output_type": "execute_result"
    }
   ],
   "source": [
    "np.full((2,10),5)"
   ]
  },
  {
   "cell_type": "markdown",
   "metadata": {},
   "source": [
    "#### Q4 : Créer un vecteur null de taille 10 et affecter la valeur 1 à la 5ème place (index 4) du vecteur"
   ]
  },
  {
   "cell_type": "code",
   "execution_count": 8,
   "metadata": {},
   "outputs": [
    {
     "data": {
      "text/plain": [
       "array([0., 0., 0., 0., 1., 0., 0., 0., 0., 0.])"
      ]
     },
     "execution_count": 8,
     "metadata": {},
     "output_type": "execute_result"
    }
   ],
   "source": [
    "v=np.zeros(10)\n",
    "v[4]=1\n",
    "v"
   ]
  },
  {
   "cell_type": "markdown",
   "metadata": {},
   "source": [
    "#### Q5 : Créer un vecteur Z de 40 valeurs allant de 10 à 50 "
   ]
  },
  {
   "cell_type": "code",
   "execution_count": 9,
   "metadata": {},
   "outputs": [
    {
     "data": {
      "text/plain": [
       "array([42, 10, 24, 14, 29, 49, 48, 29, 22, 35, 41, 15, 42, 36, 47, 32, 46,\n",
       "       25, 25, 31, 11, 12, 25, 46, 19, 41, 42, 33, 29, 29, 17, 10, 30, 42,\n",
       "       27, 41, 43, 23, 19, 28])"
      ]
     },
     "execution_count": 9,
     "metadata": {},
     "output_type": "execute_result"
    }
   ],
   "source": [
    "Z=np.random.randint(10,50,size=(40))\n",
    "Z"
   ]
  },
  {
   "cell_type": "markdown",
   "metadata": {},
   "source": [
    "#### Q6 : Inverser Z (le premier élément devient donc le dernier)"
   ]
  },
  {
   "cell_type": "code",
   "execution_count": 10,
   "metadata": {},
   "outputs": [
    {
     "data": {
      "text/plain": [
       "array([28, 19, 23, 43, 41, 27, 42, 30, 10, 17, 29, 29, 33, 42, 41, 19, 46,\n",
       "       25, 12, 11, 31, 25, 25, 46, 32, 47, 36, 42, 15, 41, 35, 22, 29, 48,\n",
       "       49, 29, 14, 24, 10, 42])"
      ]
     },
     "execution_count": 10,
     "metadata": {},
     "output_type": "execute_result"
    }
   ],
   "source": [
    "Z[::-1]"
   ]
  },
  {
   "cell_type": "markdown",
   "metadata": {},
   "source": [
    "#### Q7 : Créer une matrice 3x3 avec des valeurs comprise entre 0 et 8 "
   ]
  },
  {
   "cell_type": "code",
   "execution_count": 11,
   "metadata": {},
   "outputs": [
    {
     "data": {
      "text/plain": [
       "array([[0, 0, 6],\n",
       "       [6, 0, 2],\n",
       "       [4, 2, 0]])"
      ]
     },
     "execution_count": 11,
     "metadata": {},
     "output_type": "execute_result"
    }
   ],
   "source": [
    "M3=np.random.randint(8,size=(3,3))\n",
    "M3"
   ]
  },
  {
   "cell_type": "markdown",
   "metadata": {},
   "source": [
    "#### Q8 : Créer une matrice identié 3x3 "
   ]
  },
  {
   "cell_type": "code",
   "execution_count": 12,
   "metadata": {},
   "outputs": [
    {
     "data": {
      "text/plain": [
       "array([[1., 0., 0.],\n",
       "       [0., 1., 0.],\n",
       "       [0., 0., 1.]])"
      ]
     },
     "execution_count": 12,
     "metadata": {},
     "output_type": "execute_result"
    }
   ],
   "source": [
    "I3=np.eye(3)\n",
    "I3"
   ]
  },
  {
   "cell_type": "markdown",
   "metadata": {},
   "source": [
    "#### Q9 : Créer une matrice 3x3x3 avec des valeurs random "
   ]
  },
  {
   "cell_type": "code",
   "execution_count": 13,
   "metadata": {},
   "outputs": [
    {
     "data": {
      "text/plain": [
       "array([[[62,  0, 64],\n",
       "        [75, 57, 96],\n",
       "        [62, 12,  3]],\n",
       "\n",
       "       [[ 6, 99, 37],\n",
       "        [ 9,  7, 75],\n",
       "        [62, 78, 43]],\n",
       "\n",
       "       [[79, 24, 40],\n",
       "        [18, 55, 70],\n",
       "        [86, 37, 75]]])"
      ]
     },
     "execution_count": 13,
     "metadata": {},
     "output_type": "execute_result"
    }
   ],
   "source": [
    "M3D=np.random.randint(100,size=(3,3,3))\n",
    "M3D"
   ]
  },
  {
   "cell_type": "markdown",
   "metadata": {},
   "source": [
    "#### Q10 : Créer une matrice 10x10 avec des valeurs random et afficher le minimum et maximum "
   ]
  },
  {
   "cell_type": "code",
   "execution_count": 14,
   "metadata": {},
   "outputs": [
    {
     "data": {
      "text/plain": [
       "array([[19, 89,  4, 61, 18, 96,  8, 85, 48, 65],\n",
       "       [60, 91,  4, 98, 60, 69,  2, 24, 37, 39],\n",
       "       [64, 31, 19, 80,  2, 73, 78, 38, 51, 21],\n",
       "       [ 9, 29, 53,  2, 85, 56, 41, 10, 84, 49],\n",
       "       [ 6, 57, 99, 84, 19, 47, 94, 51, 84, 37],\n",
       "       [ 5, 61, 28,  5, 81, 68, 68,  1, 89, 82],\n",
       "       [37, 71, 62, 77, 30, 47, 93, 88, 59, 86],\n",
       "       [15, 80, 21, 22, 87, 44, 52, 57, 36, 65],\n",
       "       [81, 45,  9,  1, 93, 91, 12, 50, 22, 93],\n",
       "       [10, 12, 72,  4, 24, 85, 15, 18, 20, 82]])"
      ]
     },
     "execution_count": 14,
     "metadata": {},
     "output_type": "execute_result"
    }
   ],
   "source": [
    "M10=np.random.randint(100,size=(10,10))\n",
    "M10"
   ]
  },
  {
   "cell_type": "code",
   "execution_count": 16,
   "metadata": {},
   "outputs": [
    {
     "data": {
      "text/plain": [
       "1"
      ]
     },
     "execution_count": 16,
     "metadata": {},
     "output_type": "execute_result"
    }
   ],
   "source": [
    "np.min(M10)"
   ]
  },
  {
   "cell_type": "code",
   "execution_count": 17,
   "metadata": {},
   "outputs": [
    {
     "data": {
      "text/plain": [
       "99"
      ]
     },
     "execution_count": 17,
     "metadata": {},
     "output_type": "execute_result"
    }
   ],
   "source": [
    "np.max(M10)"
   ]
  },
  {
   "cell_type": "markdown",
   "metadata": {},
   "source": [
    "#### Q11 : Créer une matrice 5x5 avec les valeurs 1,2,3,4 en dessous de la diagonale "
   ]
  },
  {
   "cell_type": "code",
   "execution_count": 18,
   "metadata": {},
   "outputs": [
    {
     "name": "stdout",
     "output_type": "stream",
     "text": [
      "[[54 74 20 33  9]\n",
      " [34 78 78 33 81]\n",
      " [76 42 35  3 29]\n",
      " [80 87  0 43 43]\n",
      " [94 23 65 41 16]]\n",
      "\n",
      "[[54 74 20 33  9]\n",
      " [ 1 78 78 33 81]\n",
      " [76  2 35  3 29]\n",
      " [80 87  3 43 43]\n",
      " [94 23 65  4 16]]\n"
     ]
    }
   ],
   "source": [
    "M5=np.random.randint(100,size=(5,5))\n",
    "print(M5)\n",
    "print()\n",
    "M5[1][0]=1\n",
    "M5[2][1]=2\n",
    "M5[3][2]=3\n",
    "M5[4][3]=4\n",
    "print(M5)"
   ]
  },
  {
   "cell_type": "markdown",
   "metadata": {},
   "source": [
    "**Obtenir une mactrice triangulaire:**"
   ]
  },
  {
   "cell_type": "code",
   "execution_count": 19,
   "metadata": {},
   "outputs": [
    {
     "name": "stdout",
     "output_type": "stream",
     "text": [
      "[[35 73 73  3 44]\n",
      " [10 11 89 35 35]\n",
      " [71 23 27 41 98]\n",
      " [ 2 56 85 28 38]\n",
      " [80 68 37 67 83]]\n",
      "\n"
     ]
    },
    {
     "data": {
      "text/plain": [
       "array([[35,  0,  0,  0,  0],\n",
       "       [10, 11,  0,  0,  0],\n",
       "       [71, 23, 27,  0,  0],\n",
       "       [ 2, 56, 85, 28,  0],\n",
       "       [80, 68, 37, 67, 83]])"
      ]
     },
     "execution_count": 19,
     "metadata": {},
     "output_type": "execute_result"
    }
   ],
   "source": [
    "M5=np.random.randint(100,size=(5,5))\n",
    "print(M5)\n",
    "print()\n",
    "np.tril(M5,0)"
   ]
  },
  {
   "cell_type": "code",
   "execution_count": 20,
   "metadata": {},
   "outputs": [
    {
     "name": "stdout",
     "output_type": "stream",
     "text": [
      "[[3 4 4 2 4]\n",
      " [2 4 2 3 3]\n",
      " [3 1 2 2 3]\n",
      " [1 3 2 2 3]\n",
      " [1 1 4 1 2]]\n",
      "\n"
     ]
    },
    {
     "data": {
      "text/plain": [
       "array([[3, 0, 0, 0, 0],\n",
       "       [2, 4, 0, 0, 0],\n",
       "       [3, 1, 2, 0, 0],\n",
       "       [1, 3, 2, 2, 0],\n",
       "       [1, 1, 4, 1, 2]])"
      ]
     },
     "execution_count": 20,
     "metadata": {},
     "output_type": "execute_result"
    }
   ],
   "source": [
    "M15=np.random.randint(1,5,size=(5,5))\n",
    "print(M15)\n",
    "print()\n",
    "np.tril(M15,0)"
   ]
  },
  {
   "cell_type": "markdown",
   "metadata": {},
   "source": [
    "#### Q12 : Créer une liste random de taille 5 et donner la somme de ses éléments  "
   ]
  },
  {
   "cell_type": "code",
   "execution_count": 21,
   "metadata": {},
   "outputs": [
    {
     "name": "stdout",
     "output_type": "stream",
     "text": [
      "[8, 27, 21, 24, 13]\n"
     ]
    },
    {
     "data": {
      "text/plain": [
       "93"
      ]
     },
     "execution_count": 21,
     "metadata": {},
     "output_type": "execute_result"
    }
   ],
   "source": [
    "from random import randint\n",
    "\n",
    "L=[randint(0,31) for i in range(5)]\n",
    "print(L)\n",
    "sum(L)"
   ]
  },
  {
   "cell_type": "markdown",
   "metadata": {},
   "source": [
    "#### Q13 : Créer une liste random de taille 5 et donner la moyenne de ses éléments"
   ]
  },
  {
   "cell_type": "code",
   "execution_count": 22,
   "metadata": {},
   "outputs": [
    {
     "name": "stdout",
     "output_type": "stream",
     "text": [
      "[7, 6, 13, 19, 31]\n"
     ]
    },
    {
     "data": {
      "text/plain": [
       "15.2"
      ]
     },
     "execution_count": 22,
     "metadata": {},
     "output_type": "execute_result"
    }
   ],
   "source": [
    "L1=[randint(0,31) for i in range(5)]\n",
    "print(L1)\n",
    "np.mean(L1)"
   ]
  },
  {
   "cell_type": "markdown",
   "metadata": {},
   "source": [
    "#### Q14 : En utilisant une fonction, donner la taille de la liste suivante : l = [0,1,2,3,4,5,6,7]"
   ]
  },
  {
   "cell_type": "code",
   "execution_count": 23,
   "metadata": {},
   "outputs": [
    {
     "data": {
      "text/plain": [
       "8"
      ]
     },
     "execution_count": 23,
     "metadata": {},
     "output_type": "execute_result"
    }
   ],
   "source": [
    "l = [0,1,2,3,4,5,6,7]\n",
    "def taille(l):\n",
    "    return l[-1]+1\n",
    "taille(l)"
   ]
  },
  {
   "cell_type": "markdown",
   "metadata": {},
   "source": [
    "#### Q15 : Créer un tableau de taille 10 avec des valeurs comprises entre 0 et 1 EXCLUS "
   ]
  },
  {
   "cell_type": "code",
   "execution_count": 24,
   "metadata": {},
   "outputs": [
    {
     "data": {
      "text/plain": [
       "array([[0.4983944 , 0.0253756 , 0.72967871, 0.59615345, 0.34804863,\n",
       "        0.64472737, 0.14271143, 0.96594203, 0.38371676, 0.98783877]])"
      ]
     },
     "execution_count": 24,
     "metadata": {},
     "output_type": "execute_result"
    }
   ],
   "source": [
    "T=np.random.rand(1,10)\n",
    "T"
   ]
  },
  {
   "cell_type": "markdown",
   "metadata": {},
   "source": [
    "#### Q16 : Soit deux tableau A et B de dimension 1 et de taille 5, créer A et B et afficher True si A et B sont égaux False sinon"
   ]
  },
  {
   "cell_type": "code",
   "execution_count": 25,
   "metadata": {},
   "outputs": [
    {
     "name": "stdout",
     "output_type": "stream",
     "text": [
      "[2 6 6 1 2]\n",
      "[9 7 9 4 2]\n",
      "[False False False False  True]\n",
      "True\n",
      "True\n"
     ]
    }
   ],
   "source": [
    "A=np.random.randint(10,size=(5))\n",
    "B=np.random.randint(10,size=(5))\n",
    "print(A)\n",
    "print(B)\n",
    "print(A==B)                    #compare les termes 1 à 1 dans A et B\n",
    "print(A.size == B.size) \n",
    "print(A.shape == B.shape)"
   ]
  },
  {
   "cell_type": "markdown",
   "metadata": {},
   "source": [
    "#### Q17 : Convertir un tableau de float32 de dimension 1 et de taille 10 en un tableau de meme taille et dimension mais de type int32"
   ]
  },
  {
   "cell_type": "code",
   "execution_count": 23,
   "metadata": {},
   "outputs": [
    {
     "name": "stdout",
     "output_type": "stream",
     "text": [
      "[[0.42674219 0.39958976 0.68865492 0.13789982 0.92676526 0.98677806\n",
      "  0.81768791 0.42387838 0.54465331 0.7212645 ]]\n"
     ]
    },
    {
     "data": {
      "text/plain": [
       "dtype('float64')"
      ]
     },
     "execution_count": 23,
     "metadata": {},
     "output_type": "execute_result"
    }
   ],
   "source": [
    "#Crée un tableau 1x10 en floats entre 0 et 1:\n",
    "t_f=np.random.rand(1,10)\n",
    "print(t_f)\n",
    "t_f.dtype"
   ]
  },
  {
   "cell_type": "code",
   "execution_count": 24,
   "metadata": {},
   "outputs": [
    {
     "name": "stdout",
     "output_type": "stream",
     "text": [
      "[[0.898 0.962 0.219 0.621 0.271 0.345 0.1   0.681 0.645 0.843]]\n"
     ]
    },
    {
     "data": {
      "text/plain": [
       "dtype('float64')"
      ]
     },
     "execution_count": 24,
     "metadata": {},
     "output_type": "execute_result"
    }
   ],
   "source": [
    "#Crée un tableau 1x10 en floats entre 0 et 1 arrondi aux décimales souhaitées:\n",
    "tf=np.around(np.random.rand(1,10), decimals=3)\n",
    "print(tf)\n",
    "tf.dtype"
   ]
  },
  {
   "cell_type": "code",
   "execution_count": 25,
   "metadata": {},
   "outputs": [
    {
     "name": "stdout",
     "output_type": "stream",
     "text": [
      "[[-0.30522958  0.69856875 -0.63709424  0.59337264  0.64602144  0.14248753\n",
      "  -1.24903173  2.94323716  1.88489256  0.85523732]]\n"
     ]
    },
    {
     "data": {
      "text/plain": [
       "dtype('float64')"
      ]
     },
     "execution_count": 25,
     "metadata": {},
     "output_type": "execute_result"
    }
   ],
   "source": [
    "#Autre création de tableau 1x10 en floats (loi normale):\n",
    "t_ff=np.random.randn(1,10)\n",
    "print(t_ff)\n",
    "t_ff.dtype"
   ]
  },
  {
   "cell_type": "code",
   "execution_count": 26,
   "metadata": {},
   "outputs": [
    {
     "name": "stdout",
     "output_type": "stream",
     "text": [
      "[[0 0 0 0 0 0 0 0 0 0]]\n"
     ]
    },
    {
     "data": {
      "text/plain": [
       "dtype('int32')"
      ]
     },
     "execution_count": 26,
     "metadata": {},
     "output_type": "execute_result"
    }
   ],
   "source": [
    "#Convertit le tableau de floats en integers avec .astype(int):\n",
    "ti=t_f.astype(int)\n",
    "print(ti)\n",
    "ti.dtype"
   ]
  },
  {
   "cell_type": "markdown",
   "metadata": {},
   "source": [
    "#### Q18 : Normaliser une matrice random 5x5 \n",
    "La normalisation d'un nombre X consiste à lui retirer sa moyenne et a diviser le tout par l'écart type de X"
   ]
  },
  {
   "cell_type": "code",
   "execution_count": 27,
   "metadata": {},
   "outputs": [
    {
     "data": {
      "text/plain": [
       "array([[ 8,  3,  6,  5,  9],\n",
       "       [ 8,  4, 13, 12, 15],\n",
       "       [15,  7,  9, 19,  3],\n",
       "       [ 7,  5,  7, 11,  2],\n",
       "       [19,  3,  1, 10, 14]])"
      ]
     },
     "execution_count": 27,
     "metadata": {},
     "output_type": "execute_result"
    }
   ],
   "source": [
    "Mat5=np.random.randint(20, size=(5,5))\n",
    "Mat5"
   ]
  },
  {
   "cell_type": "code",
   "execution_count": 28,
   "metadata": {},
   "outputs": [
    {
     "data": {
      "text/plain": [
       "8.6"
      ]
     },
     "execution_count": 28,
     "metadata": {},
     "output_type": "execute_result"
    }
   ],
   "source": [
    "#Moyenne de la matrice:\n",
    "np.mean(Mat5)"
   ]
  },
  {
   "cell_type": "code",
   "execution_count": 29,
   "metadata": {},
   "outputs": [
    {
     "data": {
      "text/plain": [
       "4.995998398718718"
      ]
     },
     "execution_count": 29,
     "metadata": {},
     "output_type": "execute_result"
    }
   ],
   "source": [
    "#Ecart type de la matrice:\n",
    "np.std(Mat5)"
   ]
  },
  {
   "cell_type": "code",
   "execution_count": 30,
   "metadata": {},
   "outputs": [
    {
     "data": {
      "text/plain": [
       "array([[-0.12009612, -1.12089708, -0.5204165 , -0.72057669,  0.08006408],\n",
       "       [-0.12009612, -0.92073688,  0.88070485,  0.68054465,  1.28102523],\n",
       "       [ 1.28102523, -0.32025631,  0.08006408,  2.081666  , -1.12089708],\n",
       "       [-0.32025631, -0.72057669, -0.32025631,  0.48038446, -1.32105727],\n",
       "       [ 2.081666  , -1.12089708, -1.52121746,  0.28022427,  1.08086504]])"
      ]
     },
     "execution_count": 30,
     "metadata": {},
     "output_type": "execute_result"
    }
   ],
   "source": [
    "#Normalisation de la matrice:\n",
    "(Mat5 - (np.mean(Mat5))) / np.std(Mat5)"
   ]
  },
  {
   "cell_type": "markdown",
   "metadata": {},
   "source": [
    "#### Q19 : Créer une matrice random 2x2 et donner sa transposer \n",
    "L'opération de transposition dans une matrice consiste à échanger les lignes et le colonnes. "
   ]
  },
  {
   "cell_type": "code",
   "execution_count": 31,
   "metadata": {},
   "outputs": [
    {
     "data": {
      "text/plain": [
       "array([[15, 22],\n",
       "       [10,  8]])"
      ]
     },
     "execution_count": 31,
     "metadata": {},
     "output_type": "execute_result"
    }
   ],
   "source": [
    "Mat2=np.random.randint(30, size=(2,2))\n",
    "Mat2"
   ]
  },
  {
   "cell_type": "code",
   "execution_count": 32,
   "metadata": {},
   "outputs": [
    {
     "data": {
      "text/plain": [
       "array([[15, 10],\n",
       "       [22,  8]])"
      ]
     },
     "execution_count": 32,
     "metadata": {},
     "output_type": "execute_result"
    }
   ],
   "source": [
    "Mat2.T"
   ]
  },
  {
   "cell_type": "markdown",
   "metadata": {},
   "source": [
    "ou 2ème méthode:"
   ]
  },
  {
   "cell_type": "code",
   "execution_count": 33,
   "metadata": {},
   "outputs": [
    {
     "data": {
      "text/plain": [
       "array([[ 5, 11],\n",
       "       [19, 19]])"
      ]
     },
     "execution_count": 33,
     "metadata": {},
     "output_type": "execute_result"
    }
   ],
   "source": [
    "Mat3=np.random.randint(30, size=(2,2))\n",
    "Mat3"
   ]
  },
  {
   "cell_type": "code",
   "execution_count": 34,
   "metadata": {},
   "outputs": [
    {
     "data": {
      "text/plain": [
       "array([[ 5, 19],\n",
       "       [11, 19]])"
      ]
     },
     "execution_count": 34,
     "metadata": {},
     "output_type": "execute_result"
    }
   ],
   "source": [
    "np.transpose(Mat3)"
   ]
  },
  {
   "cell_type": "markdown",
   "metadata": {},
   "source": [
    "**Modification d'un tableau:**"
   ]
  },
  {
   "cell_type": "code",
   "execution_count": 35,
   "metadata": {},
   "outputs": [
    {
     "data": {
      "text/plain": [
       "array([[4, 3, 0, 8, 2],\n",
       "       [5, 2, 8, 4, 7],\n",
       "       [3, 8, 4, 0, 7],\n",
       "       [4, 8, 2, 4, 3],\n",
       "       [7, 0, 4, 0, 8]])"
      ]
     },
     "execution_count": 35,
     "metadata": {},
     "output_type": "execute_result"
    }
   ],
   "source": [
    "T=np.random.randint(10, size=(5,5))\n",
    "T"
   ]
  },
  {
   "cell_type": "code",
   "execution_count": 36,
   "metadata": {},
   "outputs": [
    {
     "data": {
      "text/plain": [
       "array([[7, 0, 4, 0, 8],\n",
       "       [4, 8, 2, 4, 3],\n",
       "       [3, 8, 4, 0, 7],\n",
       "       [4, 3, 0, 8, 2],\n",
       "       [5, 2, 8, 4, 7]])"
      ]
     },
     "execution_count": 36,
     "metadata": {},
     "output_type": "execute_result"
    }
   ],
   "source": [
    "#Mélange les lignes mais conserve T:\n",
    "np.random.permutation(T)"
   ]
  },
  {
   "cell_type": "code",
   "execution_count": 37,
   "metadata": {},
   "outputs": [
    {
     "data": {
      "text/plain": [
       "array([[4, 3, 0, 8, 2],\n",
       "       [5, 2, 8, 4, 7],\n",
       "       [3, 8, 4, 0, 7],\n",
       "       [4, 8, 2, 4, 3],\n",
       "       [7, 0, 4, 0, 8]])"
      ]
     },
     "execution_count": 37,
     "metadata": {},
     "output_type": "execute_result"
    }
   ],
   "source": [
    "T"
   ]
  },
  {
   "cell_type": "code",
   "execution_count": 38,
   "metadata": {},
   "outputs": [
    {
     "data": {
      "text/plain": [
       "array([[4, 8, 2, 4, 3],\n",
       "       [3, 8, 4, 0, 7],\n",
       "       [7, 0, 4, 0, 8],\n",
       "       [4, 3, 0, 8, 2],\n",
       "       [5, 2, 8, 4, 7]])"
      ]
     },
     "execution_count": 38,
     "metadata": {},
     "output_type": "execute_result"
    }
   ],
   "source": [
    "#Modifie T en mélangeant les lignes. On ne pourra plus appelé le tableau dans l'ordre d'origine:\n",
    "np.random.shuffle(T)\n",
    "T"
   ]
  },
  {
   "cell_type": "markdown",
   "metadata": {},
   "source": [
    "#### Q20 : Écrire un script qui remplace un élément au hasard dans une matrice de dimension NxN"
   ]
  },
  {
   "cell_type": "code",
   "execution_count": 39,
   "metadata": {},
   "outputs": [
    {
     "data": {
      "text/plain": [
       "array([[14, 12, 11, 10, 12],\n",
       "       [ 1,  7,  3, 13,  6],\n",
       "       [16,  0, 16,  8, 12],\n",
       "       [15, 11, 13,  1, 10],\n",
       "       [ 1,  3,  9,  2,  9]])"
      ]
     },
     "execution_count": 39,
     "metadata": {},
     "output_type": "execute_result"
    }
   ],
   "source": [
    "Mat5=np.random.randint(20, size=(5,5))\n",
    "Mat5"
   ]
  },
  {
   "cell_type": "code",
   "execution_count": 40,
   "metadata": {},
   "outputs": [
    {
     "data": {
      "text/plain": [
       "5"
      ]
     },
     "execution_count": 40,
     "metadata": {},
     "output_type": "execute_result"
    }
   ],
   "source": [
    "len(Mat5)                   #: donne le nombre de lignes (n ds n,p)"
   ]
  },
  {
   "cell_type": "code",
   "execution_count": 41,
   "metadata": {},
   "outputs": [
    {
     "data": {
      "text/plain": [
       "12"
      ]
     },
     "execution_count": 41,
     "metadata": {},
     "output_type": "execute_result"
    }
   ],
   "source": [
    "#choisit une ligne au hasard et un nombre au hasard dans cette ligne:\n",
    "#M[.][.] ou M[.,.]. Il faut privilégier la 2ème solution.\n",
    "\n",
    "ch=Mat5[np.random.randint(len(Mat5))][np.random.randint(len(Mat5))]\n",
    "ch"
   ]
  },
  {
   "cell_type": "code",
   "execution_count": 42,
   "metadata": {},
   "outputs": [
    {
     "data": {
      "text/plain": [
       "array([[14,  1, 11, 10,  1],\n",
       "       [ 1,  7,  3, 13,  6],\n",
       "       [16,  0, 16,  8,  1],\n",
       "       [15, 11, 13,  1, 10],\n",
       "       [ 1,  3,  9,  2,  9]])"
      ]
     },
     "execution_count": 42,
     "metadata": {},
     "output_type": "execute_result"
    }
   ],
   "source": [
    "#Remplace la valeur choisie par 1:\n",
    "Mat5[Mat5==ch]=1                #remplace la valeur où la [matrice == ch] par la valeur 1\n",
    "Mat5"
   ]
  },
  {
   "cell_type": "markdown",
   "metadata": {},
   "source": [
    " "
   ]
  },
  {
   "cell_type": "markdown",
   "metadata": {},
   "source": [
    "**Q21 : Considérons une matrice de dimension (5,5,3), écrire un script qui multiplie cette matrice par une matrice de dimension (5,5)**"
   ]
  },
  {
   "cell_type": "code",
   "execution_count": 43,
   "metadata": {},
   "outputs": [
    {
     "name": "stdout",
     "output_type": "stream",
     "text": [
      "[[[16  3  7]\n",
      "  [12 11 13]\n",
      "  [12 11 18]\n",
      "  [12  3  0]\n",
      "  [ 7 10  0]]\n",
      "\n",
      " [[18 18 13]\n",
      "  [ 5  5 18]\n",
      "  [ 0 11 17]\n",
      "  [ 3 19  6]\n",
      "  [12 10 18]]\n",
      "\n",
      " [[ 8  5 13]\n",
      "  [17 10 15]\n",
      "  [ 9  3  7]\n",
      "  [12  9  0]\n",
      "  [16 18 10]]\n",
      "\n",
      " [[10 12  5]\n",
      "  [ 0 16 19]\n",
      "  [ 4  3 13]\n",
      "  [ 7 19  9]\n",
      "  [19 13  4]]\n",
      "\n",
      " [[ 8 17  4]\n",
      "  [10 11  6]\n",
      "  [ 4  1  9]\n",
      "  [ 8 17 13]\n",
      "  [15  8 19]]]\n",
      "[[10  3  8  2 16]\n",
      " [15 10  5  9  4]\n",
      " [13 11 14 18 17]\n",
      " [ 7  4  3  6 10]\n",
      " [ 2  4  0  2 19]]\n"
     ]
    }
   ],
   "source": [
    "D=np.random.randint(20,size=(5,5,3))\n",
    "E=np.random.randint(20,size=(5,5))\n",
    "print(D)\n",
    "print(E)"
   ]
  },
  {
   "cell_type": "code",
   "execution_count": 44,
   "metadata": {},
   "outputs": [
    {
     "data": {
      "text/plain": [
       "array([[[ 428,  317,  253],\n",
       "        [ 556,  277,  325],\n",
       "        [ 843,  538,  486],\n",
       "        [ 338,  216,  155],\n",
       "        [ 237,  246,   66]],\n",
       "\n",
       "       [[ 393,  481,  620],\n",
       "        [ 395,  586,  586],\n",
       "        [ 547,  955, 1019],\n",
       "        [ 284,  393,  430],\n",
       "        [ 290,  284,  452]],\n",
       "\n",
       "       [[ 483,  410,  391],\n",
       "        [ 507,  343,  420],\n",
       "        [ 905,  685,  602],\n",
       "        [ 383,  318,  272],\n",
       "        [ 412,  410,  276]],\n",
       "\n",
       "       [[ 450,  438,  293],\n",
       "        [ 309,  578,  427],\n",
       "        [ 635,  937,  686],\n",
       "        [ 314,  401,  244],\n",
       "        [ 395,  373,  180]],\n",
       "\n",
       "       [[ 398,  373,  460],\n",
       "        [ 372,  555,  358],\n",
       "        [ 669,  798,  801],\n",
       "        [ 306,  348,  347],\n",
       "        [ 357,  264,  419]]])"
      ]
     },
     "execution_count": 44,
     "metadata": {},
     "output_type": "execute_result"
    }
   ],
   "source": [
    "E @ D  "
   ]
  },
  {
   "cell_type": "code",
   "execution_count": 45,
   "metadata": {},
   "outputs": [
    {
     "data": {
      "text/plain": [
       "array([2399, 2253, 2104])"
      ]
     },
     "execution_count": 45,
     "metadata": {},
     "output_type": "execute_result"
    }
   ],
   "source": [
    "np.tensordot(E,D)"
   ]
  },
  {
   "cell_type": "code",
   "execution_count": 46,
   "metadata": {},
   "outputs": [
    {
     "data": {
      "text/plain": [
       "array([[[ 426,  420,  287],\n",
       "        [ 431,  413,  438],\n",
       "        [ 264,  189,  457],\n",
       "        [ 367,  469,  244],\n",
       "        [ 512,  428,  446]],\n",
       "\n",
       "       [[ 582,  426,  361],\n",
       "        [ 355,  453,  645],\n",
       "        [ 277,  321,  628],\n",
       "        [ 365,  519,  193],\n",
       "        [ 536,  489,  342]],\n",
       "\n",
       "       [[ 834,  812,  574],\n",
       "        [ 619,  813, 1021],\n",
       "        [ 422,  377,  906],\n",
       "        [ 619, 1005,  449],\n",
       "        [1044,  862,  733]],\n",
       "\n",
       "       [[ 348,  350,  210],\n",
       "        [ 255,  333,  382],\n",
       "        [ 175,  158,  383],\n",
       "        [ 254,  408,  208],\n",
       "        [ 409,  322,  316]],\n",
       "\n",
       "       [[ 276,  425,  152],\n",
       "        [ 234,  283,  250],\n",
       "        [ 108,   91,  301],\n",
       "        [ 202,  443,  289],\n",
       "        [ 385,  238,  441]]])"
      ]
     },
     "execution_count": 46,
     "metadata": {},
     "output_type": "execute_result"
    }
   ],
   "source": [
    "np.tensordot(E,D,1)"
   ]
  },
  {
   "cell_type": "code",
   "execution_count": 47,
   "metadata": {},
   "outputs": [
    {
     "name": "stdout",
     "output_type": "stream",
     "text": [
      "[[ 4 12 21 32]\n",
      " [ 9 20 33 48]]\n",
      "\n",
      "[ 69 110]\n"
     ]
    }
   ],
   "source": [
    "A=np.array([1,2,3,4])\n",
    "B=np.array([[4,6,7,8],[9,10,11,12]])\n",
    "print (A*B)\n",
    "print()\n",
    "print(B @ A)"
   ]
  }
 ],
 "metadata": {
  "kernelspec": {
   "display_name": "Python 3",
   "language": "python",
   "name": "python3"
  },
  "language_info": {
   "codemirror_mode": {
    "name": "ipython",
    "version": 3
   },
   "file_extension": ".py",
   "mimetype": "text/x-python",
   "name": "python",
   "nbconvert_exporter": "python",
   "pygments_lexer": "ipython3",
   "version": "3.7.3"
  }
 },
 "nbformat": 4,
 "nbformat_minor": 2
}
